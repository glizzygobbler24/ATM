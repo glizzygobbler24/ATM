{
 "cells": [
  {
   "cell_type": "markdown",
   "metadata": {},
   "source": [
    "Inside an automated teller machine (ATM) there are notes of $10, $5, and $1. Write a Python program to emulate the way this ATM works. \n",
    "At the beginning, the machine prompts the user to enter the four-digit PIN and then checks for PIN validity (assume “1234” as the valid PIN). If given PIN is correct, the program must prompt the user to enter the amount of money (an integer value) that he or she wants to withdraw and finally it displays the least number of notes the ATM must dispense. \n",
    "\n",
    "\n",
    "For example, if the user enters an amount of $36, the program must display “3 note(s) of $10, 1 note(s) of $5, and 1 note(s) of $1”. Moreover, if the user enters a wrong PIN, the machine will allow him or her two retries. If the user enters an incorrect PIN all three times, the message “PIN locked” must be displayed and the program must end. Assume that the user enters a valid value for the amount.\n"
   ]
  },
  {
   "cell_type": "markdown",
   "metadata": {},
   "source": [
    "In the cell below: make sure you define all of your variables"
   ]
  },
  {
   "cell_type": "code",
   "execution_count": null,
   "metadata": {},
   "outputs": [],
   "source": []
  },
  {
   "cell_type": "markdown",
   "metadata": {},
   "source": [
    "Next, you are required to ask the user to enter a password. If the user is granted access to the system, the program should print a welcome message. If the user is denied access to the system, the program should print a message indicating that the password is incorrect. The program should then terminate after three attempts, and no further access is given."
   ]
  },
  {
   "cell_type": "code",
   "execution_count": null,
   "metadata": {},
   "outputs": [],
   "source": []
  },
  {
   "cell_type": "markdown",
   "metadata": {},
   "source": [
    "Next, the user is required to input what he wants. He has the following options:\n",
    "1) deposit a check\n",
    "2) check your balance\n",
    "3) withdraw an amount of money\n",
    "4) change your password\n",
    "\n",
    "Make sure you register the option that the user picks into some variable!\n",
    "In case the user picks the wrong option, the program should print an error message."
   ]
  },
  {
   "cell_type": "code",
   "execution_count": null,
   "metadata": {},
   "outputs": [],
   "source": []
  },
  {
   "cell_type": "markdown",
   "metadata": {},
   "source": [
    "Write the code that covers option 1 (deposit a check)"
   ]
  },
  {
   "cell_type": "code",
   "execution_count": null,
   "metadata": {},
   "outputs": [],
   "source": []
  },
  {
   "cell_type": "markdown",
   "metadata": {},
   "source": [
    "write the code that covers option 2 (check your balance)"
   ]
  },
  {
   "cell_type": "code",
   "execution_count": null,
   "metadata": {},
   "outputs": [],
   "source": []
  },
  {
   "cell_type": "markdown",
   "metadata": {},
   "source": [
    "write the code that covers option 3: This is the complicated part: you are required to use // to determine how many 10"
   ]
  },
  {
   "cell_type": "code",
   "execution_count": null,
   "metadata": {},
   "outputs": [],
   "source": []
  },
  {
   "cell_type": "markdown",
   "metadata": {},
   "source": [
    "write the code that covers option 4 (change your password)"
   ]
  },
  {
   "cell_type": "code",
   "execution_count": null,
   "metadata": {},
   "outputs": [],
   "source": []
  }
 ],
 "metadata": {
  "language_info": {
   "name": "python"
  }
 },
 "nbformat": 4,
 "nbformat_minor": 2
}
